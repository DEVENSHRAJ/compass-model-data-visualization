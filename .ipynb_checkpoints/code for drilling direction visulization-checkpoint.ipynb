{
 "cells": [
  {
   "cell_type": "code",
   "execution_count": 34,
   "id": "9494b78c",
   "metadata": {},
   "outputs": [],
   "source": [
    "import pandas as pd\n",
    "import math"
   ]
  },
  {
   "cell_type": "code",
   "execution_count": 35,
   "id": "e9bc037d",
   "metadata": {},
   "outputs": [],
   "source": [
    "with open('DATA.TXT') as f:\n",
    "    lines = f.readlines()"
   ]
  },
  {
   "cell_type": "code",
   "execution_count": 36,
   "id": "9174772c",
   "metadata": {},
   "outputs": [],
   "source": [
    "df=pd.DataFrame(columns=[\"Trend_in_deg\",\"Plunge_in_deg\"])\n",
    "error_line_file = open(\"lines of error.txt\", \"w\")  # Open a file"
   ]
  },
  {
   "cell_type": "code",
   "execution_count": 37,
   "id": "e0abcc71",
   "metadata": {},
   "outputs": [],
   "source": [
    "count=0\n",
    "for line in lines:\n",
    "    count+=1\n",
    "    try:\n",
    "        first=line.index(\"=\")\n",
    "        second=first+1+line[first+1:].index(\"=\")\n",
    "        Trend=float(line[first+1:first+line[first:].index(\"d\")])\n",
    "        Plunge=float(line[second+1:second+line[second:].index(\"d\")])\n",
    "        # adding values to df\n",
    "        df.loc[len(df.index)]=[Trend,Plunge]\n",
    "    except:\n",
    "        error_line_file.write(\"error at line no.: \"+str(count))\n",
    "        df.loc[len(df.index)]=[df.loc[len(df.index)-1][\"Trend_in_deg\"],df.loc[len(df.index)-1][\"Plunge_in_deg\"]]\n",
    "error_line_file.close()"
   ]
  },
  {
   "cell_type": "code",
   "execution_count": 38,
   "id": "12974f50",
   "metadata": {},
   "outputs": [],
   "source": [
    "df.to_csv(\"trend_plunge.csv\",index=False)"
   ]
  },
  {
   "cell_type": "code",
   "execution_count": null,
   "id": "e5bf12a9",
   "metadata": {},
   "outputs": [],
   "source": []
  },
  {
   "cell_type": "markdown",
   "id": "e514508a",
   "metadata": {},
   "source": [
    "# Calculation for desired value"
   ]
  },
  {
   "cell_type": "code",
   "execution_count": 39,
   "id": "fa1e3336",
   "metadata": {},
   "outputs": [],
   "source": [
    "data = pd.read_csv(\"trend_plunge.csv\") "
   ]
  },
  {
   "cell_type": "code",
   "execution_count": 40,
   "id": "0b19b2fe",
   "metadata": {},
   "outputs": [],
   "source": [
    "#assumption   all units are in SI\n",
    "drilling_rate=-3    # m/s\n",
    "data_print_rate=1   # in sec"
   ]
  },
  {
   "cell_type": "code",
   "execution_count": 41,
   "id": "bf556360",
   "metadata": {},
   "outputs": [],
   "source": [
    "#x,y,z position of the drill bit    where  y is north, x is east and z is zenith\n",
    "df_pos=pd.DataFrame(columns=[\"Time\",\"x\",\"y\",\"z\"])     "
   ]
  },
  {
   "cell_type": "code",
   "execution_count": 42,
   "id": "8f45759a",
   "metadata": {},
   "outputs": [],
   "source": [
    "#calculation part\n",
    "real_x=0     # east\n",
    "real_y=0     # north \n",
    "real_z=0     # zenith\n",
    "count=1\n",
    "for i in data.itertuples():\n",
    "    temp_trend=i[1]\n",
    "    temp_plunge=i[2]\n",
    "    Time=count*data_print_rate\n",
    "    drill_advance=drilling_rate*data_print_rate    #in m\n",
    "    real_x+=drill_advance*math.cos(math.radians(temp_plunge))*math.sin(math.radians(temp_trend))\n",
    "    real_y+=drill_advance*math.cos(math.radians(temp_plunge))*math.cos(math.radians(temp_trend))\n",
    "    real_z+=drill_advance*math.sin(math.radians(temp_plunge))\n",
    "    df_pos.loc[len(df_pos.index)]=[Time,real_x,real_y,real_z]\n",
    "    count+=1"
   ]
  },
  {
   "cell_type": "code",
   "execution_count": 43,
   "id": "395f4614",
   "metadata": {},
   "outputs": [],
   "source": [
    "df_pos.to_csv(\"Time_pos.csv\",index=False)"
   ]
  },
  {
   "cell_type": "code",
   "execution_count": null,
   "id": "43740c69",
   "metadata": {},
   "outputs": [],
   "source": []
  },
  {
   "cell_type": "markdown",
   "id": "cd109370",
   "metadata": {},
   "source": [
    "# Data visualisation"
   ]
  },
  {
   "cell_type": "code",
   "execution_count": 44,
   "id": "ddd47594",
   "metadata": {},
   "outputs": [],
   "source": [
    "x_y_z = pd.read_csv(\"Time_pos.csv\") "
   ]
  },
  {
   "cell_type": "code",
   "execution_count": 45,
   "id": "32127ef0",
   "metadata": {},
   "outputs": [
    {
     "data": {
      "text/plain": [
       "1394"
      ]
     },
     "execution_count": 45,
     "metadata": {},
     "output_type": "execute_result"
    }
   ],
   "source": [
    "len(x_y_z)"
   ]
  },
  {
   "cell_type": "code",
   "execution_count": 46,
   "id": "66b1f15e",
   "metadata": {},
   "outputs": [],
   "source": [
    "# import the module  for 3D with mouse control\n",
    "from vpython import *"
   ]
  },
  {
   "cell_type": "code",
   "execution_count": 47,
   "id": "f41e01f8",
   "metadata": {},
   "outputs": [
    {
     "data": {
      "text/html": [
       "<div id=\"glowscript\" class=\"glowscript\"></div>"
      ],
      "text/plain": [
       "<IPython.core.display.HTML object>"
      ]
     },
     "metadata": {},
     "output_type": "display_data"
    },
    {
     "data": {
      "application/javascript": [
       "if (typeof Jupyter !== \"undefined\") { window.__context = { glowscript_container: $(\"#glowscript\").removeAttr(\"id\")};}else{ element.textContent = ' ';}"
      ],
      "text/plain": [
       "<IPython.core.display.Javascript object>"
      ]
     },
     "metadata": {},
     "output_type": "display_data"
    }
   ],
   "source": [
    "scene_3 = canvas(autoscale=True)\n",
    "pointer_x = arrow(pos=vector(0,0,0),axis=vector(2500,0,0),shaftwidth=5,color=color.red)\n",
    "pointer_y= arrow(pos=vector(0,0,0),axis=vector(0,2500,0),shaftwidth=5,color=color.green)\n",
    "pointer_z= arrow(pos=vector(0,0,0),axis=vector(0,0,2500),shaftwidth=5,color=vector(0,0,1))\n",
    "drill=sphere(pos=vector(0,0,0),radius=2.5,color=color.green,make_trail=True)\n",
    "\n",
    "for i in x_y_z.itertuples():\n",
    "    rate(30) # limit animation rate, render scene\n",
    "    if i[0]+3<len(x_y_z):\n",
    "        drill.pos=vector(i[2],i[3],i[4])"
   ]
  },
  {
   "cell_type": "code",
   "execution_count": 48,
   "id": "76f05ccd",
   "metadata": {},
   "outputs": [
    {
     "name": "stdout",
     "output_type": "stream",
     "text": [
      "-779.024945131042 -1260.807645912248 -2791.114890679896\n"
     ]
    }
   ],
   "source": [
    "print(i[2],i[3],i[4])"
   ]
  },
  {
   "cell_type": "code",
   "execution_count": null,
   "id": "32653361",
   "metadata": {},
   "outputs": [],
   "source": []
  },
  {
   "cell_type": "code",
   "execution_count": 49,
   "id": "12878086",
   "metadata": {},
   "outputs": [
    {
     "data": {
      "image/png": "[encoded data removed]",
      "text/plain": [
       "<Figure size 432x288 with 1 Axes>"
      ]
     },
     "metadata": {
      "needs_background": "light"
     },
     "output_type": "display_data"
    }
   ],
   "source": [
    "# importing mplot3d toolkits, numpy and matplotlib    for 3D without mouse control\n",
    "from mpl_toolkits import mplot3d\n",
    "import numpy as np\n",
    "import matplotlib.pyplot as plt\n",
    " \n",
    "fig = plt.figure()\n",
    " \n",
    "# syntax for 3-D projection\n",
    "ax = plt.axes(projection ='3d')\n",
    " \n",
    "# defining all 3 axes\n",
    "z = np.array(x_y_z[\"z\"])\n",
    "x = np.array(x_y_z[\"x\"])\n",
    "y = np.array(x_y_z[\"y\"])\n",
    " \n",
    "# plotting\n",
    "ax.plot3D(x, y, z, 'green')\n",
    "ax.set_title('3D drill line')\n",
    "plt.show()"
   ]
  },
  {
   "cell_type": "markdown",
   "id": "3a942ca7",
   "metadata": {},
   "source": [
    "# rough code"
   ]
  },
  {
   "cell_type": "code",
   "execution_count": 50,
   "id": "cbd5bd75",
   "metadata": {},
   "outputs": [
    {
     "name": "stdout",
     "output_type": "stream",
     "text": [
      "Trend = 20.18 degrees from North in Clockwise direction Plunge = 71.58degrees  A= 68Â° | ENE\n",
      "\n",
      "6 63 80\n",
      "20.18 71.58\n"
     ]
    }
   ],
   "source": [
    "#equal to indexs  with trend and plunge\n",
    "print(line)\n",
    "first=line.index(\"=\")\n",
    "second=first+1+line[first+1:].index(\"=\")\n",
    "Trend=float(line[first+1:first+line[first:].index(\"d\")])\n",
    "third=second+1+line[second+1:].index(\"=\")\n",
    "Plunge=float(line[second+1:second+line[second:].index(\"d\")])\n",
    "print(first,second,third)\n",
    "print(Trend,Plunge)"
   ]
  },
  {
   "cell_type": "code",
   "execution_count": 51,
   "id": "ef1c0e5f",
   "metadata": {},
   "outputs": [
    {
     "data": {
      "text/plain": [
       "0.5000000000000001"
      ]
     },
     "execution_count": 51,
     "metadata": {},
     "output_type": "execute_result"
    }
   ],
   "source": [
    "math.cos(math.radians(60))"
   ]
  },
  {
   "cell_type": "code",
   "execution_count": 52,
   "id": "f11255dc",
   "metadata": {},
   "outputs": [
    {
     "data": {
      "text/plain": [
       "array([-5.13101781e-02, -1.17801778e-01, -1.79058577e-01, ...,\n",
       "       -2.78543980e+03, -2.78826859e+03, -2.79111489e+03])"
      ]
     },
     "execution_count": 52,
     "metadata": {},
     "output_type": "execute_result"
    }
   ],
   "source": [
    "np.array(x_y_z[\"z\"])"
   ]
  },
  {
   "cell_type": "code",
   "execution_count": null,
   "id": "39926006",
   "metadata": {},
   "outputs": [],
   "source": []
  }
 ],
 "metadata": {
  "kernelspec": {
   "display_name": "Python 3 (ipykernel)",
   "language": "python",
   "name": "python3"
  },
  "language_info": {
   "codemirror_mode": {
    "name": "ipython",
    "version": 3
   },
   "file_extension": ".py",
   "mimetype": "text/x-python",
   "name": "python",
   "nbconvert_exporter": "python",
   "pygments_lexer": "ipython3",
   "version": "3.9.6"
  }
 },
 "nbformat": 4,
 "nbformat_minor": 5
}
